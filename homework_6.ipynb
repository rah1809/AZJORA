# Programming example 1
def print_half_pyramids(start, end):
    for i in range(start, end + 1):
        print((str(i) + ' ') * (i - start + 1))

# Example 1
print_half_pyramids(1, 5)

# Example 2
print_half_pyramids(1, 5)   

# Example 3
for i in range(5, 0, -1):
    print((str(j) + ' ') * i for j in range(1, i + 1))


# Programming example 2
def intersect(list1, list2):
    return list(set(list1) & set(list2))

# Example
list1 = [1, 2, 3]
list2 = [2, 4, 6, 7, 1]
intersection = intersect(list1, list2)
print(intersection)


# Programming example 3
def search(lst, obj):
    for item in lst:
        if item == obj:
            return True
    return False

# Example
lst = [1, 2, 3]
e1 = 6
e2 = 2
print(search(lst, e1))  # False
print(search(lst, e2))  # True


# Programming example 4
def squared_integers(lst):
    return [x ** 2 for x in lst if isinstance(x, int)]

# Example
lst = [2, 1.5, 'Tuesday', 4]
squared_list = squared_integers(lst)
print(squared_list)  # [4, 16]


# Programming example 5
def print_binary_matrix(matrix):
    for row in matrix:
        print(' '.join(map(str, row)))

# Example
matrix = [[1, 0, 0, 0], [0, 0, 0, 1], [1, 1, 1, 1], [0, 1, 0, 1]]
print_binary_matrix(matrix)


# Programming example 6
# Glider pattern for Game of Life
glider = [[0, 1, 0],
          [0, 0, 1],
          [1, 1, 1]]

def game_of_life(matrix):
    pass  

# Example
game_of_life(glider)
